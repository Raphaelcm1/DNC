{
  "nbformat": 4,
  "nbformat_minor": 0,
  "metadata": {
    "colab": {
      "provenance": [],
      "authorship_tag": "ABX9TyMKys2Ypz9rNItSD6ci1/a9",
      "include_colab_link": true
    },
    "kernelspec": {
      "name": "python3",
      "display_name": "Python 3"
    },
    "language_info": {
      "name": "python"
    }
  },
  "cells": [
    {
      "cell_type": "markdown",
      "metadata": {
        "id": "view-in-github",
        "colab_type": "text"
      },
      "source": [
        "<a href=\"https://colab.research.google.com/github/Raphaelcm1/DNC/blob/main/Exercicios.ipynb\" target=\"_parent\"><img src=\"https://colab.research.google.com/assets/colab-badge.svg\" alt=\"Open In Colab\"/></a>"
      ]
    },
    {
      "cell_type": "markdown",
      "source": [
        "**Exercicios 1 a 10**"
      ],
      "metadata": {
        "id": "MkQ8EM_SQR4P"
      }
    },
    {
      "cell_type": "code",
      "execution_count": null,
      "metadata": {
        "colab": {
          "base_uri": "https://localhost:8080/"
        },
        "id": "1mGGN_5MPgVs",
        "outputId": "68df9bed-27af-4f32-e66b-77f07e84a4d2"
      },
      "outputs": [
        {
          "output_type": "stream",
          "name": "stdout",
          "text": [
            "Qual raio do círculo? 1.1\n",
            "3.801327110843901\n"
          ]
        }
      ],
      "source": [
        "# Write a Python program which accepts the radius of a circle from the user and compute the area\n",
        "\n",
        "def areacircle():\n",
        "  radius = float(input('Qual raio do círculo? '))\n",
        "  area = (radius**2) * (3.14159265359)\n",
        "  print(area) \n",
        "\n",
        "areacircle()"
      ]
    },
    {
      "cell_type": "code",
      "source": [
        "#Write a Python function that takes a positive integer and returns the sum of the cube of all the positive integers smaller than the specified number.\n",
        "\n",
        "def sumcubes(x):\n",
        "  soma = 0\n",
        "  if x <= 0:\n",
        "    print('O valor precisa ser positivo!')\n",
        "  else:\n",
        "    for i in range(x):\n",
        "      soma += i*i*i\n",
        "    return soma\n",
        "\n",
        "sumcubes(35)"
      ],
      "metadata": {
        "colab": {
          "base_uri": "https://localhost:8080/"
        },
        "id": "YTkx1-QgSq1e",
        "outputId": "e526e995-ee80-42ed-e7f9-6fe4ccf1c0f9"
      },
      "execution_count": null,
      "outputs": [
        {
          "output_type": "execute_result",
          "data": {
            "text/plain": [
              "354025"
            ]
          },
          "metadata": {},
          "execution_count": 14
        }
      ]
    },
    {
      "cell_type": "code",
      "source": [
        "#Make a two-player Rock-Paper-Scissors game. (Hint: Ask for player plays (using input), compare them, print out a message of congratulations to the winner, and ask if the players want to start a new game)\n",
        "\n",
        "\n",
        "while True:\n",
        "  player1 = input('Jogador 1: Pedra, Papel ou Tesoura? ').lower()\n",
        "  player2 = input('Jogador 2: Pedra, Papel ou Tesoura? ').lower()\n",
        "  if player1 == player2:\n",
        "    print('Empate')\n",
        "  if player2 == 'pedra' and player1 == 'tesoura':\n",
        "    print('Player 2 venceu')\n",
        "  if player1 == 'pedra' and player2 == 'tesoura':\n",
        "    print('Player 1 venceu')\n",
        "  if player1 == 'tesoura' and player2 == 'papel':\n",
        "    print('Player 1 venceu')\n",
        "  if player2 == 'papel' and player1 == 'pedra':\n",
        "    print('Player 2 venceu')\n",
        "  if player1 == 'tesoura' and player2 == 'papel':\n",
        "    print('Player 1 venceu')\n",
        "  cont = input('Quer continuar jogando? (s/n?' ).lower()\n",
        "  if cont == 'n':\n",
        "    break\n"
      ],
      "metadata": {
        "colab": {
          "base_uri": "https://localhost:8080/"
        },
        "id": "3A7v8genf0Uh",
        "outputId": "8c0ef73a-eff1-4c54-8b15-bffb42900815"
      },
      "execution_count": null,
      "outputs": [
        {
          "name": "stdout",
          "output_type": "stream",
          "text": [
            "Jogador 1: Pedra, Papel ou Tesoura? pedra\n",
            "Jogador 2: Pedra, Papel ou Tesoura? papel\n",
            "Player 2 venceu\n",
            "Quer continuar jogando? (s/n?n\n"
          ]
        }
      ]
    },
    {
      "cell_type": "code",
      "source": [
        "#Ask the user for a number and determine whether the number is prime or not\n",
        "\n",
        "def checkprime(x):\n",
        "  listadivisores = []\n",
        "  for i in range(1, x+1):\n",
        "    if x%i == 0:\n",
        "      listadivisores.append(i)\n",
        "  if len(listadivisores) == 2:\n",
        "    print('o número é primo')\n",
        "  else:\n",
        "    print('O número não é primo')\n",
        "  print(listadivisores)\n",
        "\n",
        "checkprime(25343)"
      ],
      "metadata": {
        "colab": {
          "base_uri": "https://localhost:8080/"
        },
        "id": "X8F7Cg3jIqy8",
        "outputId": "d6039e81-b075-4142-c69e-1151873e33e7"
      },
      "execution_count": null,
      "outputs": [
        {
          "output_type": "stream",
          "name": "stdout",
          "text": [
            "o número é primo\n",
            "[1, 25343]\n"
          ]
        }
      ]
    },
    {
      "cell_type": "code",
      "source": [
        "#criar um gerador de password\n",
        "import random\n",
        "\n",
        "\n",
        "def gen():\n",
        "  level = input(\"how long you want the password to be?(easy,med,strong): \").lower()\n",
        "  easylist = [\"banana\" , \"pen\" , \"robert\"]\n",
        "  medlist = [\"aligator\" , \"shawarma\" , \"helloworld\"]\n",
        "\n",
        "  if level == \"easy\":\n",
        "    n = random.randint(1000,9999)\n",
        "    s = (random.choice(easylist))\n",
        "    print (s,n,sep='')\n",
        "\n",
        "  elif level == \"med\":\n",
        "\n",
        "    from random import choice\n",
        "    n = random.randint(100000,999999)\n",
        "    s = ((random.choice(medlist)))\n",
        "    res = ''.join(choice((str.upper, str.lower))(char) for char in s)\n",
        "    from random import choice\n",
        "    print (str(res) , n , sep='')\n",
        "\n",
        "  elif level == \"strong\":\n",
        "    s = \"abcdefghijklmnopqrstuvwxyz01234567890ABCDEFGHIJKLMNOPQRSTUVWXYZ!@#$%^&*()?\"\n",
        "    passlen = random.randint(16 , 24)\n",
        "    p = \"\".join(random.sample(s,passlen ))\n",
        "    print (p)\n",
        "\n",
        "  else:\n",
        "    print (\"error. try again\")\n",
        "    return gen()\n",
        "    gen()\n",
        "\n",
        "gen()"
      ],
      "metadata": {
        "colab": {
          "base_uri": "https://localhost:8080/"
        },
        "id": "rpFu2MIndber",
        "outputId": "e4c40b39-bcf1-4afc-e997-7d1c0057fd6a"
      },
      "execution_count": null,
      "outputs": [
        {
          "output_type": "stream",
          "name": "stdout",
          "text": [
            "how long you want the password to be?(easy,med,strong): strong\n",
            "4^Il6FUt1L0&(Gx2CKfO\n"
          ]
        }
      ]
    },
    {
      "cell_type": "code",
      "source": [
        "#função para seq de Fibonacci\n",
        "\n",
        "def Fibonacci(x):\n",
        "  fib = [1, 1]\n",
        "  while len(fib) < x:\n",
        "    fib.append(fib[len(fib)-1] + fib[len(fib)-2])\n",
        "  if x == 1:\n",
        "      fib.remove(fib[1])\n",
        "\n",
        "  print(fib)\n",
        "\n",
        "Fibonacci(2)"
      ],
      "metadata": {
        "colab": {
          "base_uri": "https://localhost:8080/"
        },
        "id": "jQFwv5L5eiZp",
        "outputId": "2751b719-e378-406f-af0b-ec575b6a5be3"
      },
      "execution_count": null,
      "outputs": [
        {
          "output_type": "stream",
          "name": "stdout",
          "text": [
            "[1, 1]\n"
          ]
        }
      ]
    },
    {
      "cell_type": "code",
      "source": [
        "#Print back to the user the same string, except with the words in backwards order.\n",
        "\n",
        "def backwards(x):\n",
        "  split = x.split()\n",
        "  return ' '.join(reversed(split))\n",
        "\n",
        "backwards('Oi tudo bem?')"
      ],
      "metadata": {
        "colab": {
          "base_uri": "https://localhost:8080/",
          "height": 35
        },
        "id": "18EoymBXamC9",
        "outputId": "9a5038cd-8280-4f06-8f00-9e8b43768645"
      },
      "execution_count": null,
      "outputs": [
        {
          "output_type": "execute_result",
          "data": {
            "text/plain": [
              "'bem? tudo Oi'"
            ],
            "application/vnd.google.colaboratory.intrinsic+json": {
              "type": "string"
            }
          },
          "metadata": {},
          "execution_count": 16
        }
      ]
    },
    {
      "cell_type": "code",
      "source": [
        "#Randomly generate a 4-digit number. Ask the user to guess a 4-digit number. For every digit that the user guessed correctly in the correct place, they have a “cow”. \n",
        "#For every digit the user guessed correctly in the wrong place is a “bull.” Every time the user makes a guess, tell them how many “cows” and “bulls” they have.\n",
        "#Once the user guesses the correct number, the game is over. Keep track of the number of guesses the user makes throughout teh game and tell the user at the end.\n",
        "\n",
        "import random\n",
        "\n",
        "def cowbull():\n",
        "  "
      ],
      "metadata": {
        "id": "lFbZI_D-n9zm"
      },
      "execution_count": null,
      "outputs": []
    }
  ]
}